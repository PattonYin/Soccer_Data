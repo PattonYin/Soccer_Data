{
 "cells": [
  {
   "cell_type": "code",
   "execution_count": 1,
   "metadata": {},
   "outputs": [],
   "source": [
    "import pandas as pd\n",
    "from requests_html import AsyncHTMLSession\n",
    "asession = AsyncHTMLSession()\n",
    "import os"
   ]
  },
  {
   "cell_type": "code",
   "execution_count": 5,
   "metadata": {},
   "outputs": [],
   "source": [
    "folder_path = \"../../data/After_game_Prediction/Premier-League-2022-2023/processed\"\n",
    "files = os.listdir(folder_path)"
   ]
  },
  {
   "cell_type": "markdown",
   "metadata": {},
   "source": []
  },
  {
   "cell_type": "code",
   "execution_count": 7,
   "metadata": {},
   "outputs": [
    {
     "data": {
      "text/html": [
       "<div>\n",
       "<style scoped>\n",
       "    .dataframe tbody tr th:only-of-type {\n",
       "        vertical-align: middle;\n",
       "    }\n",
       "\n",
       "    .dataframe tbody tr th {\n",
       "        vertical-align: top;\n",
       "    }\n",
       "\n",
       "    .dataframe thead th {\n",
       "        text-align: right;\n",
       "    }\n",
       "</style>\n",
       "<table border=\"1\" class=\"dataframe\">\n",
       "  <thead>\n",
       "    <tr style=\"text-align: right;\">\n",
       "      <th></th>\n",
       "      <th>team_name</th>\n",
       "      <th>Date</th>\n",
       "      <th>Time</th>\n",
       "      <th>Round</th>\n",
       "      <th>Day</th>\n",
       "      <th>Venue</th>\n",
       "      <th>Result</th>\n",
       "      <th>GF</th>\n",
       "      <th>GA</th>\n",
       "      <th>Opponent</th>\n",
       "      <th>...</th>\n",
       "      <th>Int</th>\n",
       "      <th>TklW</th>\n",
       "      <th>PKwon</th>\n",
       "      <th>PKcon</th>\n",
       "      <th>OG</th>\n",
       "      <th>Recov</th>\n",
       "      <th>Won</th>\n",
       "      <th>Lost</th>\n",
       "      <th>Won%</th>\n",
       "      <th>Match Report</th>\n",
       "    </tr>\n",
       "  </thead>\n",
       "  <tbody>\n",
       "    <tr>\n",
       "      <th>0</th>\n",
       "      <td>Manchester City</td>\n",
       "      <td>2022-08-07</td>\n",
       "      <td>16:30 (11:30)</td>\n",
       "      <td>Matchweek 1</td>\n",
       "      <td>Sun</td>\n",
       "      <td>Away</td>\n",
       "      <td>W</td>\n",
       "      <td>2</td>\n",
       "      <td>0</td>\n",
       "      <td>West Ham</td>\n",
       "      <td>...</td>\n",
       "      <td>3</td>\n",
       "      <td>4</td>\n",
       "      <td>1</td>\n",
       "      <td>0</td>\n",
       "      <td>0</td>\n",
       "      <td>47</td>\n",
       "      <td>11</td>\n",
       "      <td>10</td>\n",
       "      <td>52.4</td>\n",
       "      <td>Match Report</td>\n",
       "    </tr>\n",
       "    <tr>\n",
       "      <th>1</th>\n",
       "      <td>Manchester City</td>\n",
       "      <td>2022-08-13</td>\n",
       "      <td>15:00 (10:00)</td>\n",
       "      <td>Matchweek 2</td>\n",
       "      <td>Sat</td>\n",
       "      <td>Home</td>\n",
       "      <td>W</td>\n",
       "      <td>4</td>\n",
       "      <td>0</td>\n",
       "      <td>Bournemouth</td>\n",
       "      <td>...</td>\n",
       "      <td>5</td>\n",
       "      <td>4</td>\n",
       "      <td>0</td>\n",
       "      <td>0</td>\n",
       "      <td>0</td>\n",
       "      <td>41</td>\n",
       "      <td>9</td>\n",
       "      <td>8</td>\n",
       "      <td>52.9</td>\n",
       "      <td>Match Report</td>\n",
       "    </tr>\n",
       "    <tr>\n",
       "      <th>2</th>\n",
       "      <td>Manchester City</td>\n",
       "      <td>2022-08-21</td>\n",
       "      <td>16:30 (11:30)</td>\n",
       "      <td>Matchweek 3</td>\n",
       "      <td>Sun</td>\n",
       "      <td>Away</td>\n",
       "      <td>D</td>\n",
       "      <td>3</td>\n",
       "      <td>3</td>\n",
       "      <td>Newcastle Utd</td>\n",
       "      <td>...</td>\n",
       "      <td>5</td>\n",
       "      <td>5</td>\n",
       "      <td>0</td>\n",
       "      <td>0</td>\n",
       "      <td>0</td>\n",
       "      <td>47</td>\n",
       "      <td>15</td>\n",
       "      <td>12</td>\n",
       "      <td>55.6</td>\n",
       "      <td>Match Report</td>\n",
       "    </tr>\n",
       "    <tr>\n",
       "      <th>3</th>\n",
       "      <td>Manchester City</td>\n",
       "      <td>2022-08-27</td>\n",
       "      <td>15:00 (10:00)</td>\n",
       "      <td>Matchweek 4</td>\n",
       "      <td>Sat</td>\n",
       "      <td>Home</td>\n",
       "      <td>W</td>\n",
       "      <td>4</td>\n",
       "      <td>2</td>\n",
       "      <td>Crystal Palace</td>\n",
       "      <td>...</td>\n",
       "      <td>5</td>\n",
       "      <td>10</td>\n",
       "      <td>0</td>\n",
       "      <td>0</td>\n",
       "      <td>1</td>\n",
       "      <td>47</td>\n",
       "      <td>14</td>\n",
       "      <td>7</td>\n",
       "      <td>66.7</td>\n",
       "      <td>Match Report</td>\n",
       "    </tr>\n",
       "    <tr>\n",
       "      <th>4</th>\n",
       "      <td>Manchester City</td>\n",
       "      <td>2022-08-31</td>\n",
       "      <td>19:30 (14:30)</td>\n",
       "      <td>Matchweek 5</td>\n",
       "      <td>Wed</td>\n",
       "      <td>Home</td>\n",
       "      <td>W</td>\n",
       "      <td>6</td>\n",
       "      <td>0</td>\n",
       "      <td>Nott'ham Forest</td>\n",
       "      <td>...</td>\n",
       "      <td>5</td>\n",
       "      <td>11</td>\n",
       "      <td>0</td>\n",
       "      <td>0</td>\n",
       "      <td>0</td>\n",
       "      <td>47</td>\n",
       "      <td>17</td>\n",
       "      <td>8</td>\n",
       "      <td>68.0</td>\n",
       "      <td>Match Report</td>\n",
       "    </tr>\n",
       "  </tbody>\n",
       "</table>\n",
       "<p>5 rows × 27 columns</p>\n",
       "</div>"
      ],
      "text/plain": [
       "         team_name        Date           Time        Round  Day Venue Result  \\\n",
       "0  Manchester City  2022-08-07  16:30 (11:30)  Matchweek 1  Sun  Away      W   \n",
       "1  Manchester City  2022-08-13  15:00 (10:00)  Matchweek 2  Sat  Home      W   \n",
       "2  Manchester City  2022-08-21  16:30 (11:30)  Matchweek 3  Sun  Away      D   \n",
       "3  Manchester City  2022-08-27  15:00 (10:00)  Matchweek 4  Sat  Home      W   \n",
       "4  Manchester City  2022-08-31  19:30 (14:30)  Matchweek 5  Wed  Home      W   \n",
       "\n",
       "   GF  GA         Opponent  ...  Int  TklW  PKwon  PKcon  OG  Recov  Won  \\\n",
       "0   2   0         West Ham  ...    3     4      1      0   0     47   11   \n",
       "1   4   0      Bournemouth  ...    5     4      0      0   0     41    9   \n",
       "2   3   3    Newcastle Utd  ...    5     5      0      0   0     47   15   \n",
       "3   4   2   Crystal Palace  ...    5    10      0      0   1     47   14   \n",
       "4   6   0  Nott'ham Forest  ...    5    11      0      0   0     47   17   \n",
       "\n",
       "   Lost  Won%  Match Report  \n",
       "0    10  52.4  Match Report  \n",
       "1     8  52.9  Match Report  \n",
       "2    12  55.6  Match Report  \n",
       "3     7  66.7  Match Report  \n",
       "4     8  68.0  Match Report  \n",
       "\n",
       "[5 rows x 27 columns]"
      ]
     },
     "execution_count": 7,
     "metadata": {},
     "output_type": "execute_result"
    }
   ],
   "source": [
    "df_misc = pd.read_csv(folder_path + \"/misc_all.csv\")\n",
    "df_misc.head()"
   ]
  },
  {
   "cell_type": "code",
   "execution_count": null,
   "metadata": {},
   "outputs": [],
   "source": []
  },
  {
   "cell_type": "code",
   "execution_count": 1,
   "metadata": {},
   "outputs": [
    {
     "name": "stdout",
     "output_type": "stream",
     "text": [
      "125\n"
     ]
    }
   ],
   "source": [
    "columns_to_subset_X = [\n",
    "    'Venue', 'Tkl', 'TklW', 'Def 3rd', 'Mid 3rd', 'Att 3rd', 'Tkl.1', 'Att', 'Tkl%', 'Lost', 'Blocks', 'Sh', 'Pass', 'Int', 'Tkl+Int', 'Clr', 'Err', 'SCA', 'TO', 'Sh', 'Fld', 'Def', 'TO.1', 'Sh.1', 'Fld.1', 'Def.1', 'SoTA', 'Saves', 'PKatt', 'PKA', 'PKsv', 'PKm', 'Cmp', 'Att', 'Cmp%', 'Att (GK)', 'Thr', 'Launch%', 'AvgLen', 'Att.1', 'Launch%.1', 'AvgLen.1', 'Opp', 'Stp', 'Stp%', '#OPA', 'AvgDist', 'CrdY', 'CrdR', '2CrdY', 'Fls', 'Fld', 'Off', 'Crs', 'Int', 'TklW', 'PKwon', 'PKcon', 'OG', 'Recov', 'Won', 'Lost', 'Won%', 'Cmp', 'Att', 'Cmp%', 'TotDist', 'PrgDist', 'Cmp.1', 'Att.1', 'Cmp%.1', 'Cmp.2', 'Att.2', 'Cmp%.2', 'Cmp.3', 'Att.3', 'Cmp%.3', 'xA', 'KP', '1/3', 'PPA', 'CrsPA', 'PrgP', 'Att', 'Live', 'Dead', 'FK', 'TB', 'Sw', 'Crs', 'TI', 'CK', 'In', 'Out', 'Str', 'Cmp', 'Off', 'Blocks', 'Poss', 'Touches', 'Def Pen', 'Def 3rd', 'Mid 3rd', 'Att 3rd', 'Att Pen', 'Live', 'Att', 'Succ', 'Succ%', 'Tkld', 'Tkld%', 'Carries', 'TotDist', 'PrgDist', 'PrgC', '1/3', 'CPA', 'Mis', 'Dis', 'Rec', 'PrgR', 'Dist', 'FK', 'PK', 'PKatt'\n",
    "]\n",
    "\n",
    "print(len(columns_to_subset_X))"
   ]
  },
  {
   "cell_type": "code",
   "execution_count": null,
   "metadata": {},
   "outputs": [],
   "source": []
  },
  {
   "cell_type": "code",
   "execution_count": 90,
   "metadata": {},
   "outputs": [],
   "source": [
    "import time\n",
    "from selenium import webdriver"
   ]
  },
  {
   "cell_type": "code",
   "execution_count": 86,
   "metadata": {},
   "outputs": [
    {
     "name": "stdout",
     "output_type": "stream",
     "text": [
      "<Element 'table' class=('stats_table', 'sortable', 'min_width', 'now_sortable', 'sticky_table', 'eq1', 're1', 'le1') id='matchlogs_for' data-cols-to-freeze=',1'>\n"
     ]
    }
   ],
   "source": [
    "url = \"https://fbref.com/en/squads/b8fd03ef/2022-2023/matchlogs/c9/shooting/Manchester-City-Match-Logs-Premier-League\"\n",
    "url_keeper = \"https://fbref.com/en/squads/18bb7c10/2022-2023/matchlogs/c9/keeper/Arsenal-Match-Logs-Premier-League\"\n",
    "url_passing = \"https://fbref.com/en/squads/18bb7c10/2022-2023/matchlogs/c9/passing/Arsenal-Match-Logs-Premier-League\"\n",
    "url_pass_type = \"https://fbref.com/en/squads/18bb7c10/2022-2023/matchlogs/c9/passing_types/Arsenal-Match-Logs-Premier-League\"\n",
    "url_gca = \"https://fbref.com/en/squads/18bb7c10/2022-2023/matchlogs/c9/gca/Arsenal-Match-Logs-Premier-League\"\n",
    "url_defense = \"https://fbref.com/en/squads/18bb7c10/2022-2023/matchlogs/c9/defense/Arsenal-Match-Logs-Premier-League\"\n",
    "url_possession = \"https://fbref.com/en/squads/18bb7c10/2022-2023/matchlogs/c9/possession/Arsenal-Match-Logs-Premier-League\"\n",
    "url_misc = \"https://fbref.com/en/squads/b8fd03ef/2022-2023/matchlogs/c9/misc/Manchester-City-Match-Logs-Premier-League\"\n",
    "r = await asession.get(url_misc)\n",
    "await r.html.arender()\n",
    "# table = soup.find('table', attrs={'class': 'stats_table sortable min_width now_sortable'})\n",
    "table = r.html.find('table', first=True)\n",
    "print(table)"
   ]
  },
  {
   "cell_type": "code",
   "execution_count": 87,
   "metadata": {},
   "outputs": [
    {
     "name": "stdout",
     "output_type": "stream",
     "text": [
      "['For Manchester City', 'Performance', 'Aerial Duels', '', 'Date', 'Time', 'Round', 'Day', 'Venue', 'Result', 'GF', 'GA', 'Opponent', 'CrdY', 'CrdR', '2CrdY', 'Fls', 'Fld', 'Off', 'Crs', 'Int', 'TklW', 'PKwon', 'PKcon', 'OG', 'Recov', 'Won', 'Lost', 'Won%', 'Match Report']\n"
     ]
    }
   ],
   "source": [
    "headers = [header.text for header in table.find('thead tr th')]\n",
    "print(headers)"
   ]
  },
  {
   "cell_type": "code",
   "execution_count": 88,
   "metadata": {},
   "outputs": [],
   "source": [
    "data_rows = []\n",
    "for row in table.find('tbody tr'):\n",
    "    # For each row, find all data cells (<td>) and get their text\n",
    "    date = [row.find('th', first=True).text]\n",
    "    row_data = [td.text for td in row.find('td')]\n",
    "    data_rows.append(date + row_data)"
   ]
  },
  {
   "cell_type": "code",
   "execution_count": 89,
   "metadata": {},
   "outputs": [
    {
     "name": "stdout",
     "output_type": "stream",
     "text": [
      "[['2022-08-07', '16:30 (11:30)', 'Matchweek 1', 'Sun', 'Away', 'W', '2', '0', 'West Ham', '1', '0', '0', '4', '8', '1', '18', '3', '4', '1', '0', '0', '47', '11', '10', '52.4', 'Match Report'], ['2022-08-13', '15:00 (10:00)', 'Matchweek 2', 'Sat', 'Home', 'W', '4', '0', 'Bournemouth', '0', '0', '0', '9', '9', '2', '27', '5', '4', '0', '0', '0', '41', '9', '8', '52.9', 'Match Report'], ['2022-08-21', '16:30 (11:30)', 'Matchweek 3', 'Sun', 'Away', 'D', '3', '3', 'Newcastle Utd', '2', '0', '0', '7', '14', '1', '20', '5', '5', '0', '0', '0', '47', '15', '12', '55.6', 'Match Report'], ['2022-08-27', '15:00 (10:00)', 'Matchweek 4', 'Sat', 'Home', 'W', '4', '2', 'Crystal Palace', '1', '0', '0', '14', '8', '2', '29', '5', '10', '0', '0', '1', '47', '14', '7', '66.7', 'Match Report'], ['2022-08-31', '19:30 (14:30)', 'Matchweek 5', 'Wed', 'Home', 'W', '6', '0', \"Nott'ham Forest\", '0', '0', '0', '9', '5', '2', '27', '5', '11', '0', '0', '0', '47', '17', '8', '68.0', 'Match Report'], ['2022-09-03', '17:30 (12:30)', 'Matchweek 6', 'Sat', 'Away', 'D', '1', '1', 'Aston Villa', '0', '0', '0', '6', '7', '3', '14', '5', '5', '0', '0', '0', '55', '26', '13', '66.7', 'Match Report'], ['2022-09-17', '12:30 (07:30)', 'Matchweek 8', 'Sat', 'Away', 'W', '3', '0', 'Wolves', '1', '0', '0', '9', '6', '1', '12', '15', '11', '0', '0', '0', '52', '11', '3', '78.6', 'Match Report'], ['2022-10-02', '14:00 (09:00)', 'Matchweek 9', 'Sun', 'Home', 'W', '6', '3', 'Manchester Utd', '0', '0', '0', '3', '9', '1', '10', '11', '8', '0', '1', '0', '50', '10', '6', '62.5', 'Match Report'], ['2022-10-08', '15:00 (10:00)', 'Matchweek 10', 'Sat', 'Home', 'W', '4', '0', 'Southampton', '0', '0', '0', '4', '8', '1', '21', '8', '8', '0', '0', '0', '57', '11', '10', '52.4', 'Match Report'], ['2022-10-16', '16:30 (11:30)', 'Matchweek 11', 'Sun', 'Away', 'L', '0', '1', 'Liverpool', '1', '0', '0', '7', '8', '0', '26', '7', '14', '0', '0', '0', '62', '15', '10', '60.0', 'Match Report'], ['2022-10-22', '15:00 (10:00)', 'Matchweek 13', 'Sat', 'Home', 'W', '3', '1', 'Brighton', '1', '0', '0', '11', '12', '0', '11', '8', '9', '1', '0', '0', '51', '1', '8', '11.1', 'Match Report'], ['2022-10-29', '12:30 (07:30)', 'Matchweek 14', 'Sat', 'Away', 'W', '1', '0', 'Leicester City', '0', '0', '0', '10', '5', '2', '29', '6', '4', '0', '0', '0', '45', '13', '11', '54.2', 'Match Report'], ['2022-11-05', '15:00 (11:00)', 'Matchweek 15', 'Sat', 'Home', 'W', '2', '1', 'Fulham', '2', '1', '0', '6', '11', '3', '25', '5', '2', '1', '1', '0', '51', '12', '10', '54.5', 'Match Report'], ['2022-11-12', '12:30 (07:30)', 'Matchweek 16', 'Sat', 'Home', 'L', '1', '2', 'Brentford', '2', '0', '0', '9', '6', '2', '38', '3', '7', '0', '0', '0', '47', '22', '20', '52.4', 'Match Report'], ['2022-12-28', '20:00 (15:00)', 'Matchweek 17', 'Wed', 'Away', 'W', '3', '1', 'Leeds United', '3', '0', '0', '14', '11', '1', '12', '5', '7', '0', '0', '0', '48', '7', '5', '58.3', 'Match Report'], ['2022-12-31', '15:00 (10:00)', 'Matchweek 18', 'Sat', 'Home', 'D', '1', '1', 'Everton', '3', '0', '0', '13', '14', '3', '32', '3', '7', '0', '0', '0', '43', '9', '7', '56.3', 'Match Report'], ['2023-01-05', '20:00 (15:00)', 'Matchweek 19', 'Thu', 'Away', 'W', '1', '0', 'Chelsea', '0', '0', '0', '9', '9', '1', '14', '10', '13', '0', '0', '0', '60', '12', '8', '60.0', 'Match Report'], ['2023-01-14', '12:30 (07:30)', 'Matchweek 20', 'Sat', 'Away', 'L', '1', '2', 'Manchester Utd', '0', '0', '0', '5', '15', '2', '20', '4', '1', '0', '0', '0', '43', '10', '9', '52.6', 'Match Report'], ['2023-01-19', '20:00 (15:00)', 'Matchweek 7', 'Thu', 'Home', 'W', '4', '2', 'Tottenham', '1', '0', '0', '10', '13', '0', '20', '8', '11', '0', '0', '0', '47', '11', '11', '50.0', 'Match Report'], ['2023-01-22', '14:00 (09:00)', 'Matchweek 21', 'Sun', 'Home', 'W', '3', '0', 'Wolves', '1', '0', '0', '10', '10', '1', '24', '6', '5', '1', '0', '0', '51', '14', '9', '60.9', 'Match Report'], ['For Manchester City'], ['Date'], ['2023-02-05', '16:30 (11:30)', 'Matchweek 22', 'Sun', 'Away', 'L', '0', '1', 'Tottenham', '3', '0', '0', '14', '18', '1', '27', '7', '9', '0', '0', '0', '54', '16', '9', '64.0', 'Match Report'], ['2023-02-12', '16:30 (11:30)', 'Matchweek 23', 'Sun', 'Home', 'W', '3', '1', 'Aston Villa', '1', '0', '0', '13', '14', '1', '18', '3', '3', '1', '0', '0', '45', '7', '4', '63.6', 'Match Report'], ['2023-02-15', '19:30 (14:30)', 'Matchweek 12', 'Wed', 'Away', 'W', '3', '1', 'Arsenal', '4', '0', '0', '15', '10', '3', '9', '11', '12', '0', '1', '0', '51', '14', '11', '56.0', 'Match Report'], ['2023-02-18', '15:00 (10:00)', 'Matchweek 24', 'Sat', 'Away', 'D', '1', '1', \"Nott'ham Forest\", '0', '0', '0', '6', '8', '0', '34', '2', '7', '0', '0', '0', '56', '10', '13', '43.5', 'Match Report'], ['2023-02-25', '17:30 (12:30)', 'Matchweek 25', 'Sat', 'Away', 'W', '4', '1', 'Bournemouth', '2', '0', '0', '9', '9', '2', '16', '6', '17', '0', '0', '0', '54', '9', '10', '47.4', 'Match Report'], ['2023-03-04', '12:30 (07:30)', 'Matchweek 26', 'Sat', 'Home', 'W', '2', '0', 'Newcastle Utd', '2', '0', '0', '8', '12', '0', '18', '4', '6', '0', '0', '0', '60', '9', '7', '56.3', 'Match Report'], ['2023-03-11', '17:30 (12:30)', 'Matchweek 27', 'Sat', 'Away', 'W', '1', '0', 'Crystal Palace', '2', '0', '0', '17', '11', '2', '22', '9', '7', '1', '0', '0', '53', '12', '9', '57.1', 'Match Report'], ['2023-04-01', '12:30 (07:30)', 'Matchweek 29', 'Sat', 'Home', 'W', '4', '1', 'Liverpool', '1', '0', '0', '9', '12', '3', '15', '4', '0', '0', '0', '0', '40', '1', '7', '12.5', 'Match Report'], ['2023-04-08', '17:30 (12:30)', 'Matchweek 30', 'Sat', 'Away', 'W', '4', '1', 'Southampton', '2', '0', '0', '10', '6', '2', '21', '6', '7', '1', '0', '0', '45', '13', '7', '65.0', 'Match Report'], ['2023-04-15', '17:30 (12:30)', 'Matchweek 31', 'Sat', 'Home', 'W', '3', '1', 'Leicester City', '1', '0', '0', '8', '7', '0', '23', '1', '6', '0', '0', '0', '35', '7', '15', '31.8', 'Match Report'], ['2023-04-26', '20:00 (15:00)', 'Matchweek 33', 'Wed', 'Home', 'W', '4', '1', 'Arsenal', '3', '0', '0', '13', '13', '0', '5', '9', '8', '0', '0', '0', '42', '15', '12', '55.6', 'Match Report'], ['2023-04-30', '14:00 (09:00)', 'Matchweek 34', 'Sun', 'Away', 'W', '2', '1', 'Fulham', '3', '0', '0', '10', '8', '1', '11', '5', '10', '1', '0', '0', '54', '16', '15', '51.6', 'Match Report'], ['2023-05-03', '20:00 (15:00)', 'Matchweek 28', 'Wed', 'Home', 'W', '3', '0', 'West Ham', '0', '0', '0', '8', '8', '1', '25', '5', '9', '0', '0', '0', '55', '10', '14', '41.7', 'Match Report'], ['2023-05-06', '15:00 (10:00)', 'Matchweek 35', 'Sat', 'Home', 'W', '2', '1', 'Leeds United', '0', '0', '0', '3', '15', '4', '22', '5', '5', '1', '0', '0', '60', '13', '12', '52.0', 'Match Report'], ['2023-05-14', '14:00 (09:00)', 'Matchweek 36', 'Sun', 'Away', 'W', '3', '0', 'Everton', '0', '0', '0', '4', '10', '0', '17', '5', '5', '0', '0', '0', '40', '8', '8', '50.0', 'Match Report'], ['2023-05-21', '16:00 (11:00)', 'Matchweek 37', 'Sun', 'Home', 'W', '1', '0', 'Chelsea', '0', '0', '0', '12', '9', '2', '12', '4', '6', '0', '0', '0', '40', '4', '5', '44.4', 'Match Report'], ['2023-05-24', '20:00 (15:00)', 'Matchweek 32', 'Wed', 'Away', 'D', '1', '1', 'Brighton', '1', '0', '0', '11', '14', '0', '10', '3', '4', '0', '0', '0', '56', '12', '9', '57.1', 'Match Report'], ['2023-05-28', '16:30 (11:30)', 'Matchweek 38', 'Sun', 'Away', 'L', '0', '1', 'Brentford', '0', '0', '0', '8', '12', '0', '8', '7', '5', '0', '0', '0', '35', '12', '12', '50.0', 'Match Report']]\n"
     ]
    }
   ],
   "source": [
    "print(data_rows)"
   ]
  },
  {
   "cell_type": "code",
   "execution_count": 45,
   "metadata": {},
   "outputs": [
    {
     "name": "stdout",
     "output_type": "stream",
     "text": [
      "https://fbref.com/en/squads/18bb7c10/2022-2023/matchlogs/c9/shooting/Arsenal-Match-Logs-Premier-League\n"
     ]
    }
   ],
   "source": [
    "the_url_1 = \"https://fbref.com/en/squads/b8fd03ef/2022-2023/matchlogs/c9/schedule/Manchester-City-Scores-and-Fixtures-Premier-League\"\n",
    "the_url_2 = \"https://fbref.com/en/squads/18bb7c10/2022-2023/matchlogs/c9/shooting/Arsenal-Match-Logs-Premier-League\"\n",
    "the_url_2 = \"https://fbref.com/en/squads/18bb7c10/2022-2023/matchlogs/c9/keeper/Arsenal-Match-Logs-Premier-League\"\n",
    "\n",
    "the url 2 = \"https://fbref.com/en/squads/18bb7c10/2022-2023/matchlogs/c9/shooting/Arsenal-Match-Logs-Premier-League\"\n",
    "\n",
    "team_name_1 = \"Manchester City\"\n",
    "team_name_2 = \"Arsenal\"\n",
    "metric = \"shooting\" + \"/\"\n",
    "league = \"Premier League\"\n",
    "base = \"https://fbref.com\"\n",
    "team_url_1 = \"/en/squads/b8fd03ef/2022-2023/Manchester-City-Stats\"\n",
    "team_url_2 = \"/en/squads/18bb7c10/2022-2023/Arsenal-Stats\"\n",
    "# Get all info before the 5th / in the url\n",
    "process_1 = team_url_1.split(\"/\")[:5]\n",
    "process_2 = team_url_2.split(\"/\")[:5]\n",
    "# Join the list into a string with / as the separator\n",
    "need = base + \"/\".join(process_2) + \"/matchlogs/c9/\" + metric + team_name_2.replace(\" \", \"-\") + \"-\" + \"Match-Logs-\" + league.replace(\" \", \"-\")\n",
    "print(need)"
   ]
  },
  {
   "cell_type": "code",
   "execution_count": 78,
   "metadata": {},
   "outputs": [
    {
     "name": "stdout",
     "output_type": "stream",
     "text": [
      "shooting\n",
      "4\n",
      "keeper\n",
      "9\n",
      "passing\n",
      "8\n",
      "passing_types\n",
      "5\n",
      "gca\n",
      "4\n",
      "defense\n",
      "5\n",
      "possesion\n",
      "6\n",
      "misc\n",
      "4\n"
     ]
    }
   ],
   "source": [
    "import json\n",
    "json_path = r'X:\\code\\Soccer_Data\\code\\After_game_Prediction\\config.json'\n",
    "with open(json_path, 'r') as config_file:\n",
    "    config = json.load(config_file)\n",
    "    metrics = config[\"METRICS\"]\n",
    "for metric in metrics:\n",
    "    print(metric)\n",
    "    print(metrics[metric])"
   ]
  },
  {
   "cell_type": "code",
   "execution_count": 81,
   "metadata": {},
   "outputs": [],
   "source": [
    "import os\n",
    "league = \"Premier League\"\n",
    "league = league.replace(\" \", \"_\")\n",
    "if not os.path.exists(\"../../data/After_game_Prediction/\" + league):\n",
    "    os.makedirs(\"../../data/After_game_Prediction/\" + league)"
   ]
  },
  {
   "cell_type": "code",
   "execution_count": 82,
   "metadata": {},
   "outputs": [
    {
     "name": "stdout",
     "output_type": "stream",
     "text": [
      "nice\n"
     ]
    }
   ],
   "source": [
    "if not os.path.exists(\"../../data\"):\n",
    "    print(\"Error: data folder does not exist\")"
   ]
  },
  {
   "cell_type": "code",
   "execution_count": null,
   "metadata": {},
   "outputs": [],
   "source": []
  }
 ],
 "metadata": {
  "kernelspec": {
   "display_name": "base",
   "language": "python",
   "name": "python3"
  },
  "language_info": {
   "codemirror_mode": {
    "name": "ipython",
    "version": 3
   },
   "file_extension": ".py",
   "mimetype": "text/x-python",
   "name": "python",
   "nbconvert_exporter": "python",
   "pygments_lexer": "ipython3",
   "version": "3.11.5"
  }
 },
 "nbformat": 4,
 "nbformat_minor": 2
}
