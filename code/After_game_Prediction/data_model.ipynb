{
 "cells": [
  {
   "cell_type": "code",
   "execution_count": 140,
   "metadata": {},
   "outputs": [],
   "source": [
    "import pandas as pd\n",
    "import json\n",
    "from sklearn.model_selection import train_test_split\n",
    "from sklearn.tree import DecisionTreeClassifier\n",
    "from sklearn.tree import export_graphviz\n",
    "import os\n",
    "import numpy as np\n",
    "import matplotlib.pyplot as plt\n"
   ]
  },
  {
   "cell_type": "markdown",
   "metadata": {},
   "source": [
    "#### The paths:\n",
    "- data_path\n",
    "- output_path\n",
    "- graphviz_path"
   ]
  },
  {
   "cell_type": "code",
   "execution_count": null,
   "metadata": {},
   "outputs": [],
   "source": [
    "data_path = \"../../data/After_game_Prediction/Premier-League-2022-2023/processed\"\n",
    "output_path = \"../../result/After_game_Prediction/Premier-League-2022-2023\"\n",
    "if not os.path.exists(output_path):\n",
    "    os.makedirs(output_path)"
   ]
  },
  {
   "cell_type": "markdown",
   "metadata": {},
   "source": [
    "# Sample on misc_all\n",
    "### Data Preperation"
   ]
  },
  {
   "cell_type": "code",
   "execution_count": 127,
   "metadata": {},
   "outputs": [],
   "source": [
    "misc_all = pd.read_csv(os.path.join(data_path, \"misc_all.csv\"))\n",
    "\n",
    "# Change the venue to a number\n",
    "venue_dict = {\n",
    "    \"Home\": 0,\n",
    "    \"Away\": 1\n",
    "}\n",
    "Result_dict = {\n",
    "    \"W\": 1,\n",
    "    \"D\": 0,\n",
    "    \"L\": -1\n",
    "}\n",
    "\n",
    "misc_all[\"Venue\"] = misc_all[\"Venue\"].map(venue_dict)\n",
    "misc_all[\"Result\"] = misc_all[\"Result\"].map(Result_dict)\n",
    "misc_all = misc_all.sample(frac=1).reset_index(drop=True)\n",
    "\n",
    "train_misc_all, valid_misc_all = train_test_split(misc_all, test_size=0.2, random_state=42)\n",
    "\n",
    "columns_to_subset_X = [\n",
    "    \"Venue\", 'CrdY', 'CrdR', '2CrdY', 'Fls', 'Fld', 'Off', 'Crs', 'Int', 'TklW', 'PKwon', 'PKcon', 'OG', 'Recov', 'Won', 'Lost', 'Won%'\n",
    "]\n",
    "columns_to_subset_y = [\n",
    "    \"Result\", \"GF\", \"GA\"\n",
    "]\n",
    "\n",
    "X = train_misc_all[columns_to_subset_X]\n",
    "y = train_misc_all[\"Result\"]\n",
    "\n",
    "X_test = valid_misc_all[columns_to_subset_X]\n",
    "y_test = valid_misc_all[\"Result\"]\n"
   ]
  },
  {
   "cell_type": "code",
   "execution_count": 104,
   "metadata": {},
   "outputs": [
    {
     "name": "stdout",
     "output_type": "stream",
     "text": [
      "[ 0  1 -1]\n",
      "[-1  1  0]\n"
     ]
    }
   ],
   "source": [
    "print(y.unique())\n",
    "print(misc_all[\"Result\"].unique())"
   ]
  },
  {
   "cell_type": "markdown",
   "metadata": {},
   "source": [
    "### The Decision Tree Model"
   ]
  },
  {
   "cell_type": "code",
   "execution_count": 119,
   "metadata": {},
   "outputs": [
    {
     "name": "stdout",
     "output_type": "stream",
     "text": [
      "accuracy: 0.4407894736842105\n"
     ]
    }
   ],
   "source": [
    "tree_clf = DecisionTreeClassifier()\n",
    "tree_clf.fit(X, y)\n",
    "\n",
    "y_model = tree_clf.predict_proba(X_test)"
   ]
  },
  {
   "cell_type": "markdown",
   "metadata": {},
   "source": [
    "### Performance Measure\n",
    "Approach 1: accuracy"
   ]
  },
  {
   "cell_type": "code",
   "execution_count": null,
   "metadata": {},
   "outputs": [],
   "source": [
    "correct = 0\n",
    "outcomes = [-1, 0, 1]\n",
    "for i in range(len(y_model)):\n",
    "    most_likely_index = np.argmax(y_model[i])\n",
    "    most_likely_outcome = outcomes[most_likely_index]\n",
    "    if most_likely_outcome == y_test.iloc[i]:\n",
    "        correct += 1\n",
    "print(f\"accuracy: {correct/len(y_model)}\")\n"
   ]
  },
  {
   "cell_type": "markdown",
   "metadata": {},
   "source": [
    "Approach 2: Confusion Matrix"
   ]
  },
  {
   "cell_type": "code",
   "execution_count": 151,
   "metadata": {},
   "outputs": [
    {
     "name": "stdout",
     "output_type": "stream",
     "text": [
      "608\n",
      "Counts for -1: 103, for 0: 27, for 1: 106\n"
     ]
    },
    {
     "data": {
      "image/png": "[encoded data removed]",
      "text/plain": [
       "<Figure size 640x480 with 2 Axes>"
      ]
     },
     "metadata": {},
     "output_type": "display_data"
    }
   ],
   "source": [
    "from sklearn.model_selection import cross_val_predict\n",
    "y_train_pred = cross_val_predict(tree_clf, X, y, cv=3)\n",
    "\n",
    "a = 0\n",
    "b = 0\n",
    "c = 0\n",
    "print(len(y_train_pred))\n",
    "for i in range(len(y_train_pred)):\n",
    "    most_likely_outcome = y_train_pred[i]\n",
    "    if most_likely_outcome == y.iloc[i]:\n",
    "        if most_likely_outcome == -1:\n",
    "            a += 1\n",
    "        elif most_likely_outcome == 0:\n",
    "            b += 1\n",
    "        else:\n",
    "            c += 1\n",
    "\n",
    "print(f\"Counts for -1: {a}, for 0: {b}, for 1: {c}\")\n",
    "\n",
    "from sklearn.metrics import confusion_matrix\n",
    "conf_matrix = confusion_matrix(y, y_train_pred)\n",
    "\n",
    "# Visualization\n",
    "labels = ['-1', '0', '1']\n",
    "\n",
    "plt.imshow(conf_matrix, interpolation='nearest', cmap=plt.cm.Blues)\n",
    "plt.title('Confusion Matrix')\n",
    "plt.colorbar()\n",
    "\n",
    "# Add labels to the plot\n",
    "tick_marks = np.arange(len(labels))\n",
    "plt.xticks(tick_marks, labels)\n",
    "plt.yticks(tick_marks, labels)\n",
    "\n",
    "# Add numerical values in each cell\n",
    "for i in range(len(labels)):\n",
    "    for j in range(len(labels)):\n",
    "        plt.text(j, i, conf_matrix[i, j], horizontalalignment='center', verticalalignment='center')\n",
    "\n",
    "plt.xlabel('Predicted label')\n",
    "plt.ylabel('True label')\n",
    "plt.show()"
   ]
  },
  {
   "cell_type": "markdown",
   "metadata": {},
   "source": [
    "Approach 3: Precision, Recall and f1 Score"
   ]
  },
  {
   "cell_type": "code",
   "execution_count": 157,
   "metadata": {},
   "outputs": [
    {
     "name": "stdout",
     "output_type": "stream",
     "text": [
      "Precision score for 1: 0.43089430894308944, for 0: 0.20454545454545456, for -1: 0.44782608695652176\n",
      "Recall score for 1: 0.4435146443514644, for 0: 0.20149253731343283, for -1: 0.43829787234042555\n",
      "F1 score for 1: 0.43711340206185567, for 0: 0.20300751879699247, for -1: 0.4430107526881721\n"
     ]
    }
   ],
   "source": [
    "precision_score_1 = conf_matrix[2, 2] / (conf_matrix[2, 2] + conf_matrix[1, 2] + conf_matrix[0, 2])\n",
    "pricision_score_0 = conf_matrix[1, 1] / (conf_matrix[1, 1] + conf_matrix[0, 1] + conf_matrix[2, 1])\n",
    "pricision_score_minus_1 = conf_matrix[0, 0] / (conf_matrix[0, 0] + conf_matrix[1, 0] + conf_matrix[2, 0])\n",
    "print(f\"Precision score for 1: {precision_score_1}, for 0: {pricision_score_0}, for -1: {pricision_score_minus_1}\")\n",
    "\n",
    "recall_score_1 = conf_matrix[2, 2] / (conf_matrix[2, 2] + conf_matrix[2, 1] + conf_matrix[2, 0])\n",
    "recall_score_0 = conf_matrix[1, 1] / (conf_matrix[1, 1] + conf_matrix[1, 0] + conf_matrix[1, 2])\n",
    "recall_score_minus_1 = conf_matrix[0, 0] / (conf_matrix[0, 0] + conf_matrix[0, 1] + conf_matrix[0, 2])\n",
    "print(f\"Recall score for 1: {recall_score_1}, for 0: {recall_score_0}, for -1: {recall_score_minus_1}\")\n",
    "\n",
    "f1_score_1 = 2 * (precision_score_1 * recall_score_1) / (precision_score_1 + recall_score_1)\n",
    "f1_score_0 = 2 * (pricision_score_0 * recall_score_0) / (pricision_score_0 + recall_score_0)\n",
    "f1_score_minus_1 = 2 * (pricision_score_minus_1 * recall_score_minus_1) / (pricision_score_minus_1 + recall_score_minus_1)\n",
    "print(f\"F1 score for 1: {f1_score_1}, for 0: {f1_score_0}, for -1: {f1_score_minus_1}\")\n"
   ]
  },
  {
   "cell_type": "markdown",
   "metadata": {},
   "source": [
    "### Export Decision Tree Graph"
   ]
  },
  {
   "cell_type": "code",
   "execution_count": 135,
   "metadata": {},
   "outputs": [
    {
     "data": {
      "text/plain": [
       "'decision_tree_misc.pdf'"
      ]
     },
     "execution_count": 135,
     "metadata": {},
     "output_type": "execute_result"
    }
   ],
   "source": [
    "export_graphviz(\n",
    "    tree_clf,\n",
    "    out_file=output_path + \"/decision_tree_misc.dot\",\n",
    "    feature_names=columns_to_subset_X,\n",
    "    class_names=np.array([\"L\", \"D\", \"W\"]),\n",
    "    rounded=True,\n",
    "    filled=True\n",
    ")\n",
    "\n",
    "import graphviz\n",
    "\n",
    "graphviz_path = r\"C:\\Program Files\\Graphviz\\bin\"\n",
    "with open(os.path.join(output_path, \"decision_tree_misc.dot\"), \"r\") as dot_file:\n",
    "    dot_data = dot_file.read()\n",
    "graph = graphviz.Source(dot_data)\n",
    "graph.render(\"decision_tree_misc\", format=\"png\", cleanup=True)\n",
    "\n",
    "graph.view()\n"
   ]
  },
  {
   "cell_type": "markdown",
   "metadata": {},
   "source": [
    "# Apply Random Forest Model to all.csv\n",
    "### Data Preperation"
   ]
  },
  {
   "cell_type": "code",
   "execution_count": 291,
   "metadata": {},
   "outputs": [],
   "source": [
    "df_all = pd.read_csv(os.path.join(folder_path, \"all.csv\"))\n",
    "# for i in range(len(os.listdir(folder_path))):\n",
    "#     df = pd.read_csv(os.path.join(folder_path, os.listdir(folder_path)[i]))\n",
    "#     print(f\"folder: {os.listdir(folder_path)[i]}\")\n",
    "#     print(df.columns)\n",
    "    \n",
    "columns_to_subset_X = [\n",
    "    'Venue', 'Tkl', 'TklW', 'Def 3rd', 'Mid 3rd', 'Att 3rd', 'Tkl.1', 'Att', 'Tkl%', 'Lost', 'Blocks', 'Sh', 'Pass', 'Int', 'Tkl+Int', 'Clr', 'Err', 'SCA', 'TO', 'Sh', 'Fld', 'Def', 'TO.1', 'Sh.1', 'Fld.1', 'Def.1', 'SoTA', 'Saves', 'PKatt', 'PKA', 'PKsv', 'PKm', 'Cmp', 'Att', 'Cmp%', 'Att (GK)', 'Thr', 'Launch%', 'AvgLen', 'Att.1', 'Launch%.1', 'AvgLen.1', 'Opp', 'Stp', 'Stp%', '#OPA', 'AvgDist', 'CrdY', 'CrdR', '2CrdY', 'Fls', 'Fld', 'Off', 'Crs', 'Int', 'TklW', 'PKwon', 'PKcon', 'OG', 'Recov', 'Won', 'Lost', 'Won%', 'Cmp', 'Att', 'Cmp%', 'TotDist', 'PrgDist', 'Cmp.1', 'Att.1', 'Cmp%.1', 'Cmp.2', 'Att.2', 'Cmp%.2', 'Cmp.3', 'Att.3', 'Cmp%.3', 'xA', 'KP', '1/3', 'PPA', 'CrsPA', 'PrgP', 'Att', 'Live', 'Dead', 'FK', 'TB', 'Sw', 'Crs', 'TI', 'CK', 'In', 'Out', 'Str', 'Cmp', 'Off', 'Blocks', 'Poss', 'Touches', 'Def Pen', 'Def 3rd', 'Mid 3rd', 'Att 3rd', 'Att Pen', 'Live', 'Att', 'Succ', 'Succ%', 'Tkld', 'Tkld%', 'Carries', 'TotDist', 'PrgDist', 'PrgC', '1/3', 'CPA', 'Mis', 'Dis', 'Rec', 'PrgR', 'Dist', 'FK', 'PK', 'PKatt'\n",
    "]\n",
    "\n",
    "# Removed: Gls, gca, GA, G/SoT, G/sh, CS, Save%, Ast, PassLive, PassLive.1, np:G-xG，G-xG, npxG/Sh, 'xG', 'npxG', 'PSxG', 'PSxG+/-', 'xAG', 'PassDead', 'PassDead.1', 'Sh', 'SoT', 'SoT%', \n",
    "\n",
    "columns_to_subset_X = list(set(columns_to_subset_X))\n",
    "\n",
    "venue_dict = {\n",
    "    \"Home\": 0,\n",
    "    \"Away\": 1\n",
    "}\n",
    "\n",
    "Result_dict = {\n",
    "    \"W\": 1,\n",
    "    \"D\": 0,\n",
    "    \"L\": -1\n",
    "}\n",
    "\n",
    "df_all.dropna(subset=columns_to_subset_X, inplace=True)\n",
    "# Cleanup duplicate columns\n",
    "df_all = df_all.loc[:, ~df_all.columns.duplicated()]\n",
    "df_all[\"Venue\"] = df_all[\"Venue\"].map(venue_dict)\n",
    "df_all[\"Result\"] = df_all[\"Result\"].map(Result_dict)\n",
    "\n",
    "train_all, valid_all = train_test_split(df_all, test_size=0.2, random_state=42)\n",
    "\n",
    "X = train_all[columns_to_subset_X]\n",
    "y = train_all[\"Result\"]\n",
    "\n",
    "X_test = valid_all[columns_to_subset_X]\n",
    "y_test = valid_all[\"Result\"]"
   ]
  },
  {
   "cell_type": "markdown",
   "metadata": {},
   "source": [
    "### Modeling\n",
    "#### Randome Forest & Decision Tree"
   ]
  },
  {
   "cell_type": "code",
   "execution_count": 292,
   "metadata": {},
   "outputs": [
    {
     "data": {
      "text/html": [
       "<style>#sk-container-id-39 {color: black;}#sk-container-id-39 pre{padding: 0;}#sk-container-id-39 div.sk-toggleable {background-color: white;}#sk-container-id-39 label.sk-toggleable__label {cursor: pointer;display: block;width: 100%;margin-bottom: 0;padding: 0.3em;box-sizing: border-box;text-align: center;}#sk-container-id-39 label.sk-toggleable__label-arrow:before {content: \"▸\";float: left;margin-right: 0.25em;color: #696969;}#sk-container-id-39 label.sk-toggleable__label-arrow:hover:before {color: black;}#sk-container-id-39 div.sk-estimator:hover label.sk-toggleable__label-arrow:before {color: black;}#sk-container-id-39 div.sk-toggleable__content {max-height: 0;max-width: 0;overflow: hidden;text-align: left;background-color: #f0f8ff;}#sk-container-id-39 div.sk-toggleable__content pre {margin: 0.2em;color: black;border-radius: 0.25em;background-color: #f0f8ff;}#sk-container-id-39 input.sk-toggleable__control:checked~div.sk-toggleable__content {max-height: 200px;max-width: 100%;overflow: auto;}#sk-container-id-39 input.sk-toggleable__control:checked~label.sk-toggleable__label-arrow:before {content: \"▾\";}#sk-container-id-39 div.sk-estimator input.sk-toggleable__control:checked~label.sk-toggleable__label {background-color: #d4ebff;}#sk-container-id-39 div.sk-label input.sk-toggleable__control:checked~label.sk-toggleable__label {background-color: #d4ebff;}#sk-container-id-39 input.sk-hidden--visually {border: 0;clip: rect(1px 1px 1px 1px);clip: rect(1px, 1px, 1px, 1px);height: 1px;margin: -1px;overflow: hidden;padding: 0;position: absolute;width: 1px;}#sk-container-id-39 div.sk-estimator {font-family: monospace;background-color: #f0f8ff;border: 1px dotted black;border-radius: 0.25em;box-sizing: border-box;margin-bottom: 0.5em;}#sk-container-id-39 div.sk-estimator:hover {background-color: #d4ebff;}#sk-container-id-39 div.sk-parallel-item::after {content: \"\";width: 100%;border-bottom: 1px solid gray;flex-grow: 1;}#sk-container-id-39 div.sk-label:hover label.sk-toggleable__label {background-color: #d4ebff;}#sk-container-id-39 div.sk-serial::before {content: \"\";position: absolute;border-left: 1px solid gray;box-sizing: border-box;top: 0;bottom: 0;left: 50%;z-index: 0;}#sk-container-id-39 div.sk-serial {display: flex;flex-direction: column;align-items: center;background-color: white;padding-right: 0.2em;padding-left: 0.2em;position: relative;}#sk-container-id-39 div.sk-item {position: relative;z-index: 1;}#sk-container-id-39 div.sk-parallel {display: flex;align-items: stretch;justify-content: center;background-color: white;position: relative;}#sk-container-id-39 div.sk-item::before, #sk-container-id-39 div.sk-parallel-item::before {content: \"\";position: absolute;border-left: 1px solid gray;box-sizing: border-box;top: 0;bottom: 0;left: 50%;z-index: -1;}#sk-container-id-39 div.sk-parallel-item {display: flex;flex-direction: column;z-index: 1;position: relative;background-color: white;}#sk-container-id-39 div.sk-parallel-item:first-child::after {align-self: flex-end;width: 50%;}#sk-container-id-39 div.sk-parallel-item:last-child::after {align-self: flex-start;width: 50%;}#sk-container-id-39 div.sk-parallel-item:only-child::after {width: 0;}#sk-container-id-39 div.sk-dashed-wrapped {border: 1px dashed gray;margin: 0 0.4em 0.5em 0.4em;box-sizing: border-box;padding-bottom: 0.4em;background-color: white;}#sk-container-id-39 div.sk-label label {font-family: monospace;font-weight: bold;display: inline-block;line-height: 1.2em;}#sk-container-id-39 div.sk-label-container {text-align: center;}#sk-container-id-39 div.sk-container {/* jupyter's `normalize.less` sets `[hidden] { display: none; }` but bootstrap.min.css set `[hidden] { display: none !important; }` so we also need the `!important` here to be able to override the default hidden behavior on the sphinx rendered scikit-learn.org. See: https://github.com/scikit-learn/scikit-learn/issues/21755 */display: inline-block !important;position: relative;}#sk-container-id-39 div.sk-text-repr-fallback {display: none;}</style><div id=\"sk-container-id-39\" class=\"sk-top-container\"><div class=\"sk-text-repr-fallback\"><pre>DecisionTreeClassifier(max_depth=7)</pre><b>In a Jupyter environment, please rerun this cell to show the HTML representation or trust the notebook. <br />On GitHub, the HTML representation is unable to render, please try loading this page with nbviewer.org.</b></div><div class=\"sk-container\" hidden><div class=\"sk-item\"><div class=\"sk-estimator sk-toggleable\"><input class=\"sk-toggleable__control sk-hidden--visually\" id=\"sk-estimator-id-39\" type=\"checkbox\" checked><label for=\"sk-estimator-id-39\" class=\"sk-toggleable__label sk-toggleable__label-arrow\">DecisionTreeClassifier</label><div class=\"sk-toggleable__content\"><pre>DecisionTreeClassifier(max_depth=7)</pre></div></div></div></div></div>"
      ],
      "text/plain": [
       "DecisionTreeClassifier(max_depth=7)"
      ]
     },
     "execution_count": 292,
     "metadata": {},
     "output_type": "execute_result"
    }
   ],
   "source": [
    "from sklearn.ensemble import RandomForestClassifier\n",
    "rf = RandomForestClassifier(n_estimators=100, random_state=42)\n",
    "\n",
    "rf.fit(X, y)\n",
    "\n",
    "tree_clf_all = DecisionTreeClassifier(max_depth=7)\n",
    "tree_clf_all.fit(X, y)"
   ]
  },
  {
   "cell_type": "markdown",
   "metadata": {},
   "source": [
    "### Performance Measure\n",
    "Approach 1: accuracy"
   ]
  },
  {
   "cell_type": "code",
   "execution_count": 293,
   "metadata": {},
   "outputs": [
    {
     "name": "stdout",
     "output_type": "stream",
     "text": [
      "accuracy: 0.6153846153846154\n",
      "accuracy: 0.3916083916083916\n"
     ]
    }
   ],
   "source": [
    "y_pred_rf = rf.predict(X_test)\n",
    "correct = 0\n",
    "outcomes = [-1, 0, 1]\n",
    "for i in range(len(y_pred_rf)):\n",
    "    most_likely_outcome = y_pred_rf[i]\n",
    "    if most_likely_outcome == y_test.iloc[i]:\n",
    "        correct += 1\n",
    "print(f\"accuracy: {correct/len(y_pred_rf)}\")\n",
    "\n",
    "\n",
    "y_pred_dt = tree_clf_all.predict(X_test)\n",
    "correct = 0\n",
    "outcomes = [-1, 0, 1]\n",
    "for i in range(len(y_pred_dt)):\n",
    "    most_likely_outcome = y_pred_dt[i]\n",
    "    if most_likely_outcome == y_test.iloc[i]:\n",
    "        correct += 1\n",
    "print(f\"accuracy: {correct/len(y_pred_dt)}\")"
   ]
  },
  {
   "cell_type": "markdown",
   "metadata": {},
   "source": [
    "Approach 2: Confusion Matrix"
   ]
  },
  {
   "cell_type": "code",
   "execution_count": 294,
   "metadata": {},
   "outputs": [
    {
     "data": {
      "image/png": "[encoded data removed]",
      "text/plain": [
       "<Figure size 640x480 with 2 Axes>"
      ]
     },
     "metadata": {},
     "output_type": "display_data"
    }
   ],
   "source": [
    "from sklearn.model_selection import cross_val_predict\n",
    "y_train_pred = cross_val_predict(rf, X, y, cv=3)\n",
    "\n",
    "from sklearn.metrics import confusion_matrix\n",
    "conf_matrix = confusion_matrix(y, y_train_pred)\n",
    "\n",
    "# Visualization\n",
    "labels = ['-1', '0', '1']\n",
    "\n",
    "plt.imshow(conf_matrix, interpolation='nearest', cmap=plt.cm.Blues)\n",
    "plt.title('Confusion Matrix')\n",
    "plt.colorbar()\n",
    "\n",
    "# Add labels to the plot\n",
    "tick_marks = np.arange(len(labels))\n",
    "plt.xticks(tick_marks, labels)\n",
    "plt.yticks(tick_marks, labels)\n",
    "\n",
    "# Add numerical values in each cell\n",
    "for i in range(len(labels)):\n",
    "    for j in range(len(labels)):\n",
    "        plt.text(j, i, conf_matrix[i, j], horizontalalignment='center', verticalalignment='center')\n",
    "\n",
    "plt.xlabel('Predicted label')\n",
    "plt.ylabel('True label')\n",
    "plt.show()"
   ]
  },
  {
   "cell_type": "code",
   "execution_count": 290,
   "metadata": {},
   "outputs": [
    {
     "data": {
      "image/png": "[encoded data removed]",
      "text/plain": [
       "<Figure size 640x480 with 2 Axes>"
      ]
     },
     "metadata": {},
     "output_type": "display_data"
    }
   ],
   "source": [
    "from sklearn.model_selection import cross_val_predict\n",
    "y_train_pred = cross_val_predict(tree_clf_all, X, y, cv=3)\n",
    "\n",
    "from sklearn.metrics import confusion_matrix\n",
    "conf_matrix = confusion_matrix(y, y_train_pred)\n",
    "\n",
    "# Visualization\n",
    "labels = ['-1', '0', '1']\n",
    "\n",
    "plt.imshow(conf_matrix, interpolation='nearest', cmap=plt.cm.Blues)\n",
    "plt.title('Confusion Matrix')\n",
    "plt.colorbar()\n",
    "\n",
    "# Add labels to the plot\n",
    "tick_marks = np.arange(len(labels))\n",
    "plt.xticks(tick_marks, labels)\n",
    "plt.yticks(tick_marks, labels)\n",
    "\n",
    "# Add numerical values in each cell\n",
    "for i in range(len(labels)):\n",
    "    for j in range(len(labels)):\n",
    "        plt.text(j, i, conf_matrix[i, j], horizontalalignment='center', verticalalignment='center')\n",
    "\n",
    "plt.xlabel('Predicted label')\n",
    "plt.ylabel('True label')\n",
    "plt.show()"
   ]
  },
  {
   "cell_type": "markdown",
   "metadata": {},
   "source": [
    "### Graph Export (Decision Tree)"
   ]
  },
  {
   "cell_type": "code",
   "execution_count": 289,
   "metadata": {},
   "outputs": [
    {
     "data": {
      "text/plain": [
       "'..\\\\..\\\\result\\\\After_game_Prediction\\\\Premier-League-2022-2023\\\\decision_tree_all.pdf'"
      ]
     },
     "execution_count": 289,
     "metadata": {},
     "output_type": "execute_result"
    }
   ],
   "source": [
    "export_graphviz(\n",
    "    tree_clf_all,\n",
    "    out_file=output_path + \"/decision_tree_all.dot\",\n",
    "    feature_names=columns_to_subset_X,\n",
    "    class_names=np.array([\"L\", \"D\", \"W\"]),\n",
    "    rounded=True,\n",
    "    filled=True\n",
    ")\n",
    "\n",
    "import graphviz\n",
    "\n",
    "graphviz_path = r\"C:\\Program Files\\Graphviz\\bin\"\n",
    "with open(os.path.join(output_path, \"decision_tree_all.dot\"), \"r\") as dot_file:\n",
    "    dot_data = dot_file.read()\n",
    "graph = graphviz.Source(dot_data)\n",
    "\n",
    "graph.render(os.path.join(output_path, \"decision_tree_all\"), format=\"png\", cleanup=True)\n",
    "\n",
    "graph.view()"
   ]
  }
 ],
 "metadata": {
  "kernelspec": {
   "display_name": "base",
   "language": "python",
   "name": "python3"
  },
  "language_info": {
   "codemirror_mode": {
    "name": "ipython",
    "version": 3
   },
   "file_extension": ".py",
   "mimetype": "text/x-python",
   "name": "python",
   "nbconvert_exporter": "python",
   "pygments_lexer": "ipython3",
   "version": "3.11.5"
  }
 },
 "nbformat": 4,
 "nbformat_minor": 2
}
